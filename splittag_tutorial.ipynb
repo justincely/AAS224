{
 "metadata": {
  "name": ""
 },
 "nbformat": 3,
 "nbformat_minor": 0,
 "worksheets": [
  {
   "cells": [
    {
     "cell_type": "code",
     "collapsed": false,
     "input": [
      "import matplotlib.pyplot as plt\n",
      "from astropy.io import fits\n",
      "\n",
      "from costools import splittag"
     ],
     "language": "python",
     "metadata": {},
     "outputs": []
    },
    {
     "cell_type": "code",
     "collapsed": false,
     "input": [
      "splittag.splittag(\"rootname_corrtag_a.fits\", \n",
      "                  \"split3s\",\n",
      "                  starttime=0., \n",
      "                  increment=3., \n",
      "                  endtime=1000.,\n",
      "                  time_list=\"\")"
     ],
     "language": "python",
     "metadata": {},
     "outputs": []
    }
   ],
   "metadata": {}
  }
 ]
}