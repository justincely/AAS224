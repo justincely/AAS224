{
 "metadata": {
  "name": "",
  "signature": "sha256:6e78b97ba4dd179077c25caffee2fb553fd875922a62661c75720868662fa304"
 },
 "nbformat": 3,
 "nbformat_minor": 0,
 "worksheets": [
  {
   "cells": [
    {
     "cell_type": "markdown",
     "metadata": {},
     "source": [
      "# Filtering out dark events by Pulse-Height Amplitude (PHA)\n",
      "\n",
      "---\n",
      "\n",
      "This tutorial outlines the steps needed to restrict the PHA filtering in COS datasets.  This involves examining the datasets, modifying a reference file, and re-calibrating the data.  The standard values are currently 2-23, meaning only events within this range are included in final processing.  We will see how and why to restrict this below."
     ]
    },
    {
     "cell_type": "code",
     "collapsed": false,
     "input": [
      "import os\n",
      "import glob\n",
      "import numpy as np\n",
      "import matplotlib as mpl\n",
      "import matplotlib.pyplot as plt\n",
      "from astropy.io import fits"
     ],
     "language": "python",
     "metadata": {},
     "outputs": [],
     "prompt_number": 42
    },
    {
     "cell_type": "code",
     "collapsed": false,
     "input": [
      "#-- iPython notebook magic command to make plots appear within the \n",
      "#-- browser instead of opening a separate plotting window.\n",
      "%matplotlib inline\n",
      "\n",
      "#-- Increase the default fontsize for the plots\n",
      "mpl.rcParams['font.size'] = 16"
     ],
     "language": "python",
     "metadata": {},
     "outputs": [],
     "prompt_number": 43
    },
    {
     "cell_type": "code",
     "collapsed": false,
     "input": [
      "#-- CalCOS needs reference files to function.\n",
      "#-- this will set the lref environment variable if you don't have it set.\n",
      "#--\n",
      "#-- This is the correct location for users internal to STScI, you may have to change it.\n",
      "os.environ['lref'] = '/grp/hst/cdbs/lref/'"
     ],
     "language": "python",
     "metadata": {},
     "outputs": [],
     "prompt_number": 44
    },
    {
     "cell_type": "markdown",
     "metadata": {},
     "source": [
      "### Pulse Height Distribution\n",
      "\n",
      "---\n",
      "\n",
      "To see what kind of filtering we may be able to do, we need to first look at the detected events in PHA space.  To do this, we create histograms of the PHA column in the corrtag for FUVA and FUVB data.  The range of PHAs in data is integer values from 0-31, so these will be our bins.\n",
      "\n",
      "Below, we can see the PHD for each segment from this particular dataset.  The standard filtering limits are plotted as red lines.  What you see in the distribution is a strong feature from the external target itsself superimposed with a lower-level, mostly flat, distribution of dark events.  These dark events come from a variety of sources: cosmic rays, double-counted events, and detector-intrinsic noise.  Each of these sources contribute a different shape to the background distribution, but as a 1st order approximation the filtering boundaries can be moved in from their default values until they start to touch the source distribution.  This will ensure that you are not including areas of Pulse-height space that are dark-dominated.  The approximate regions that can additionally be filtered for this dataset are shown in grey."
     ]
    },
    {
     "cell_type": "code",
     "collapsed": false,
     "input": [
      "fig, (ax1, ax2) = plt.subplots(2, figsize=(7, 7), sharex=True)\n",
      "\n",
      "#-- Create a histogram of the FUVA events in PHA space\n",
      "hdu = fits.open('data/lbry01icq_corrtag_a.fits')\n",
      "ax1.hist(hdu['events'].data['PHA'], bins=range(0, 32))\n",
      "ax1.set_ylabel('FUVA Distribution')\n",
      "ax1.axvspan(xmin=2, xmax=2, ymin=0, ymax=1, color='grey', alpha=.5)\n",
      "ax1.axvspan(xmin=19, xmax=23, ymin=0, ymax=1, color='grey', alpha=.5)\n",
      "\n",
      "#-- Create a histogram of the FUVB events in PHA space\n",
      "hdu = fits.open('data/lbry01icq_corrtag_b.fits')\n",
      "ax2.hist(hdu['events'].data['PHA'], bins=range(0, 32))\n",
      "ax2.set_xlabel('PHA')\n",
      "ax2.set_ylabel('FUVB Distribution')\n",
      "ax2.axvspan(xmin=15, xmax=23, ymin=0, ymax=1, color='grey', alpha=.5)\n",
      "\n",
      "for axis in [ax1, ax2]:\n",
      "    axis.axvline(x=2, color='r', ls='--', lw=3, label='Lower Bound')\n",
      "    axis.axvline(x=23, color='r', ls='--', lw=3, label='Upper Bound')\n",
      "\n",
      "fig.subplots_adjust(hspace=0)\n",
      "fig.savefig('filtering_by_segment.pdf', bbox_inches='tight')"
     ],
     "language": "python",
     "metadata": {},
     "outputs": [
      {
       "metadata": {},
       "output_type": "display_data",
       "png": "[encoded data removed]",
       "text": [
        "<matplotlib.figure.Figure at 0x105d31390>"
       ]
      }
     ],
     "prompt_number": 45
    },
    {
     "cell_type": "markdown",
     "metadata": {},
     "source": [
      "### Modifying the reference file\n",
      "\n",
      "---\n",
      "\n",
      "The PHA limits are set in the PHATAB reference file.  We can modify this very simply."
     ]
    },
    {
     "cell_type": "code",
     "collapsed": false,
     "input": [
      "print hdu[0].header['phatab']\n",
      "print\n",
      "#-- Patch together LREF and the phatab filename to open\n",
      "phatab = fits.open(os.path.join(os.environ['lref'], hdu[0].header['phatab'].split('$')[1]))\n",
      "\n",
      "phatab.info()"
     ],
     "language": "python",
     "metadata": {},
     "outputs": [
      {
       "output_type": "stream",
       "stream": "stdout",
       "text": [
        "lref$ucl1623gl_pha.fits\n",
        "\n",
        "Filename: /grp/hst/cdbs/lref/ucl1623gl_pha.fits\n",
        "No.    Name         Type      Cards   Dimensions   Format\n",
        "0    PRIMARY     PrimaryHDU      29   ()              \n",
        "1                BinTableHDU     29   6R x 6C      [8A, 4A, 1J, 1J, 1E, 1E]   "
       ]
      },
      {
       "output_type": "stream",
       "stream": "stdout",
       "text": [
        "\n"
       ]
      }
     ],
     "prompt_number": 46
    },
    {
     "cell_type": "code",
     "collapsed": false,
     "input": [
      "phatab[1].data"
     ],
     "language": "python",
     "metadata": {},
     "outputs": [
      {
       "metadata": {},
       "output_type": "pyout",
       "prompt_number": 47,
       "text": [
        "FITS_rec([('G130M', 'FUVA', 2, 30, 0.1, 1.9),\n",
        "       ('G130M', 'FUVB', 2, 30, 0.1, 1.9),\n",
        "       ('G160M', 'FUVA', 2, 30, 0.1, 1.9),\n",
        "       ('G160M', 'FUVB', 2, 30, 0.1, 1.9),\n",
        "       ('G140L', 'FUVA', 2, 30, 0.1, 1.9),\n",
        "       ('G140L', 'FUVB', 2, 30, 0.1, 1.9)], \n",
        "      dtype=[('OPT_ELEM', 'S8'), ('SEGMENT', 'S4'), ('LLT', '>i4'), ('ULT', '>i4'), ('MIN_PEAK', '>f4'), ('MAX_PEAK', '>f4')])"
       ]
      }
     ],
     "prompt_number": 47
    },
    {
     "cell_type": "markdown",
     "metadata": {},
     "source": [
      "The table is broken up by grating and segment.  LLT is the lower threshold, while ULT is the upper threshold.  Lets set all the FUVA dataset to filter from 2 to 19, and FUVB to filter from 2 to 15."
     ]
    },
    {
     "cell_type": "code",
     "collapsed": false,
     "input": [
      "index = np.where(phatab[1].data['SEGMENT'] == 'FUVA')\n",
      "phatab[1].data['ULT'][index] = 19\n",
      "\n",
      "index = np.where(phatab[1].data['SEGMENT'] == 'FUVB')\n",
      "phatab[1].data['ULT'][index] = 15"
     ],
     "language": "python",
     "metadata": {},
     "outputs": [],
     "prompt_number": 48
    },
    {
     "cell_type": "markdown",
     "metadata": {},
     "source": [
      "Ok, we can see we modified the correct column, now we can just write it out to a new filename."
     ]
    },
    {
     "cell_type": "code",
     "collapsed": false,
     "input": [
      "phatab[1].data"
     ],
     "language": "python",
     "metadata": {},
     "outputs": [
      {
       "metadata": {},
       "output_type": "pyout",
       "prompt_number": 49,
       "text": [
        "FITS_rec([('G130M', 'FUVA', 2, 19, 0.1, 1.9),\n",
        "       ('G130M', 'FUVB', 2, 15, 0.1, 1.9),\n",
        "       ('G160M', 'FUVA', 2, 19, 0.1, 1.9),\n",
        "       ('G160M', 'FUVB', 2, 15, 0.1, 1.9),\n",
        "       ('G140L', 'FUVA', 2, 19, 0.1, 1.9),\n",
        "       ('G140L', 'FUVB', 2, 15, 0.1, 1.9)], \n",
        "      dtype=[('OPT_ELEM', 'S8'), ('SEGMENT', 'S4'), ('LLT', '>i4'), ('ULT', '>i4'), ('MIN_PEAK', '>f4'), ('MAX_PEAK', '>f4')])"
       ]
      }
     ],
     "prompt_number": 49
    },
    {
     "cell_type": "code",
     "collapsed": false,
     "input": [
      "phatab.writeto('data/modified_phatab.fits')"
     ],
     "language": "python",
     "metadata": {},
     "outputs": [],
     "prompt_number": 50
    },
    {
     "cell_type": "markdown",
     "metadata": {},
     "source": [
      "Now you simply need to set the PHATAB header keyword in the raw data to point to this new file, and run CalCOS again."
     ]
    },
    {
     "cell_type": "code",
     "collapsed": false,
     "input": [],
     "language": "python",
     "metadata": {},
     "outputs": [],
     "prompt_number": 50
    }
   ],
   "metadata": {}
  }
 ]
}